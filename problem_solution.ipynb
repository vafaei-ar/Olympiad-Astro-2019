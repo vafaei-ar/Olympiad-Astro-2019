{
 "cells": [
  {
   "cell_type": "code",
   "execution_count": 34,
   "metadata": {},
   "outputs": [],
   "source": [
    "%matplotlib inline\n",
    "\n",
    "import numpy as np\n",
    "import pandas as pd\n",
    "import pylab as plt"
   ]
  },
  {
   "cell_type": "code",
   "execution_count": 35,
   "metadata": {},
   "outputs": [],
   "source": [
    "data1 = pd.read_csv('data1.csv')\n",
    "data1['I'] = data1['I'].str.replace(',', '').astype(float)\n",
    "data2 = pd.read_csv('data2.csv')\n",
    "data2['I'] = data2['I'].str.replace(',', '').astype(float)\n",
    "data3 = pd.read_csv('data3.csv')\n",
    "data3['I'] = data3['I'].str.replace(',', '').astype(float)"
   ]
  },
  {
   "cell_type": "code",
   "execution_count": 36,
   "metadata": {},
   "outputs": [
    {
     "data": {
      "text/html": [
       "<div>\n",
       "<style scoped>\n",
       "    .dataframe tbody tr th:only-of-type {\n",
       "        vertical-align: middle;\n",
       "    }\n",
       "\n",
       "    .dataframe tbody tr th {\n",
       "        vertical-align: top;\n",
       "    }\n",
       "\n",
       "    .dataframe thead th {\n",
       "        text-align: right;\n",
       "    }\n",
       "</style>\n",
       "<table border=\"1\" class=\"dataframe\">\n",
       "  <thead>\n",
       "    <tr style=\"text-align: right;\">\n",
       "      <th></th>\n",
       "      <th>Unnamed: 0</th>\n",
       "      <th>r</th>\n",
       "      <th>I</th>\n",
       "      <th>error</th>\n",
       "    </tr>\n",
       "  </thead>\n",
       "  <tbody>\n",
       "    <tr>\n",
       "      <th>0</th>\n",
       "      <td>0</td>\n",
       "      <td>0.0498</td>\n",
       "      <td>2851.7503</td>\n",
       "      <td>21.4431</td>\n",
       "    </tr>\n",
       "    <tr>\n",
       "      <th>1</th>\n",
       "      <td>1</td>\n",
       "      <td>0.0695</td>\n",
       "      <td>2380.3585</td>\n",
       "      <td>13.4725</td>\n",
       "    </tr>\n",
       "    <tr>\n",
       "      <th>2</th>\n",
       "      <td>2</td>\n",
       "      <td>0.0970</td>\n",
       "      <td>2052.6371</td>\n",
       "      <td>25.9921</td>\n",
       "    </tr>\n",
       "    <tr>\n",
       "      <th>3</th>\n",
       "      <td>3</td>\n",
       "      <td>0.1353</td>\n",
       "      <td>1505.7303</td>\n",
       "      <td>42.5917</td>\n",
       "    </tr>\n",
       "    <tr>\n",
       "      <th>4</th>\n",
       "      <td>4</td>\n",
       "      <td>0.1889</td>\n",
       "      <td>1318.8918</td>\n",
       "      <td>53.6306</td>\n",
       "    </tr>\n",
       "    <tr>\n",
       "      <th>5</th>\n",
       "      <td>5</td>\n",
       "      <td>0.2636</td>\n",
       "      <td>916.9997</td>\n",
       "      <td>80.7550</td>\n",
       "    </tr>\n",
       "    <tr>\n",
       "      <th>6</th>\n",
       "      <td>6</td>\n",
       "      <td>0.3679</td>\n",
       "      <td>1065.1732</td>\n",
       "      <td>31.3478</td>\n",
       "    </tr>\n",
       "    <tr>\n",
       "      <th>7</th>\n",
       "      <td>7</td>\n",
       "      <td>0.5134</td>\n",
       "      <td>480.5023</td>\n",
       "      <td>28.1698</td>\n",
       "    </tr>\n",
       "    <tr>\n",
       "      <th>8</th>\n",
       "      <td>8</td>\n",
       "      <td>0.7165</td>\n",
       "      <td>328.1725</td>\n",
       "      <td>10.5424</td>\n",
       "    </tr>\n",
       "    <tr>\n",
       "      <th>9</th>\n",
       "      <td>9</td>\n",
       "      <td>1.0000</td>\n",
       "      <td>211.4380</td>\n",
       "      <td>18.0805</td>\n",
       "    </tr>\n",
       "  </tbody>\n",
       "</table>\n",
       "</div>"
      ],
      "text/plain": [
       "   Unnamed: 0       r          I    error\n",
       "0           0  0.0498  2851.7503  21.4431\n",
       "1           1  0.0695  2380.3585  13.4725\n",
       "2           2  0.0970  2052.6371  25.9921\n",
       "3           3  0.1353  1505.7303  42.5917\n",
       "4           4  0.1889  1318.8918  53.6306\n",
       "5           5  0.2636   916.9997  80.7550\n",
       "6           6  0.3679  1065.1732  31.3478\n",
       "7           7  0.5134   480.5023  28.1698\n",
       "8           8  0.7165   328.1725  10.5424\n",
       "9           9  1.0000   211.4380  18.0805"
      ]
     },
     "execution_count": 36,
     "metadata": {},
     "output_type": "execute_result"
    }
   ],
   "source": [
    "data1"
   ]
  },
  {
   "cell_type": "code",
   "execution_count": 37,
   "metadata": {},
   "outputs": [
    {
     "data": {
      "text/html": [
       "<div>\n",
       "<style scoped>\n",
       "    .dataframe tbody tr th:only-of-type {\n",
       "        vertical-align: middle;\n",
       "    }\n",
       "\n",
       "    .dataframe tbody tr th {\n",
       "        vertical-align: top;\n",
       "    }\n",
       "\n",
       "    .dataframe thead th {\n",
       "        text-align: right;\n",
       "    }\n",
       "</style>\n",
       "<table border=\"1\" class=\"dataframe\">\n",
       "  <thead>\n",
       "    <tr style=\"text-align: right;\">\n",
       "      <th></th>\n",
       "      <th>Unnamed: 0</th>\n",
       "      <th>r</th>\n",
       "      <th>I</th>\n",
       "      <th>error</th>\n",
       "    </tr>\n",
       "  </thead>\n",
       "  <tbody>\n",
       "    <tr>\n",
       "      <th>0</th>\n",
       "      <td>0</td>\n",
       "      <td>0.0498</td>\n",
       "      <td>2775.6950</td>\n",
       "      <td>49.5298</td>\n",
       "    </tr>\n",
       "    <tr>\n",
       "      <th>1</th>\n",
       "      <td>1</td>\n",
       "      <td>0.0695</td>\n",
       "      <td>2449.7728</td>\n",
       "      <td>46.1750</td>\n",
       "    </tr>\n",
       "    <tr>\n",
       "      <th>2</th>\n",
       "      <td>2</td>\n",
       "      <td>0.0970</td>\n",
       "      <td>1854.5801</td>\n",
       "      <td>6.6762</td>\n",
       "    </tr>\n",
       "    <tr>\n",
       "      <th>3</th>\n",
       "      <td>3</td>\n",
       "      <td>0.1353</td>\n",
       "      <td>1526.0567</td>\n",
       "      <td>7.2893</td>\n",
       "    </tr>\n",
       "    <tr>\n",
       "      <th>4</th>\n",
       "      <td>4</td>\n",
       "      <td>0.1889</td>\n",
       "      <td>1364.9964</td>\n",
       "      <td>14.0266</td>\n",
       "    </tr>\n",
       "    <tr>\n",
       "      <th>5</th>\n",
       "      <td>5</td>\n",
       "      <td>0.2636</td>\n",
       "      <td>872.7204</td>\n",
       "      <td>33.6829</td>\n",
       "    </tr>\n",
       "    <tr>\n",
       "      <th>6</th>\n",
       "      <td>6</td>\n",
       "      <td>0.3679</td>\n",
       "      <td>822.0273</td>\n",
       "      <td>10.2018</td>\n",
       "    </tr>\n",
       "    <tr>\n",
       "      <th>7</th>\n",
       "      <td>7</td>\n",
       "      <td>0.5134</td>\n",
       "      <td>560.5012</td>\n",
       "      <td>11.8198</td>\n",
       "    </tr>\n",
       "    <tr>\n",
       "      <th>8</th>\n",
       "      <td>8</td>\n",
       "      <td>0.7165</td>\n",
       "      <td>572.1500</td>\n",
       "      <td>22.5322</td>\n",
       "    </tr>\n",
       "    <tr>\n",
       "      <th>9</th>\n",
       "      <td>9</td>\n",
       "      <td>1.0000</td>\n",
       "      <td>328.2900</td>\n",
       "      <td>25.5976</td>\n",
       "    </tr>\n",
       "  </tbody>\n",
       "</table>\n",
       "</div>"
      ],
      "text/plain": [
       "   Unnamed: 0       r          I    error\n",
       "0           0  0.0498  2775.6950  49.5298\n",
       "1           1  0.0695  2449.7728  46.1750\n",
       "2           2  0.0970  1854.5801   6.6762\n",
       "3           3  0.1353  1526.0567   7.2893\n",
       "4           4  0.1889  1364.9964  14.0266\n",
       "5           5  0.2636   872.7204  33.6829\n",
       "6           6  0.3679   822.0273  10.2018\n",
       "7           7  0.5134   560.5012  11.8198\n",
       "8           8  0.7165   572.1500  22.5322\n",
       "9           9  1.0000   328.2900  25.5976"
      ]
     },
     "execution_count": 37,
     "metadata": {},
     "output_type": "execute_result"
    }
   ],
   "source": [
    "data2"
   ]
  },
  {
   "cell_type": "code",
   "execution_count": 38,
   "metadata": {},
   "outputs": [
    {
     "data": {
      "text/html": [
       "<div>\n",
       "<style scoped>\n",
       "    .dataframe tbody tr th:only-of-type {\n",
       "        vertical-align: middle;\n",
       "    }\n",
       "\n",
       "    .dataframe tbody tr th {\n",
       "        vertical-align: top;\n",
       "    }\n",
       "\n",
       "    .dataframe thead th {\n",
       "        text-align: right;\n",
       "    }\n",
       "</style>\n",
       "<table border=\"1\" class=\"dataframe\">\n",
       "  <thead>\n",
       "    <tr style=\"text-align: right;\">\n",
       "      <th></th>\n",
       "      <th>Unnamed: 0</th>\n",
       "      <th>r</th>\n",
       "      <th>I</th>\n",
       "      <th>error</th>\n",
       "    </tr>\n",
       "  </thead>\n",
       "  <tbody>\n",
       "    <tr>\n",
       "      <th>0</th>\n",
       "      <td>0</td>\n",
       "      <td>0.0498</td>\n",
       "      <td>2945.6142</td>\n",
       "      <td>12.1356</td>\n",
       "    </tr>\n",
       "    <tr>\n",
       "      <th>1</th>\n",
       "      <td>1</td>\n",
       "      <td>0.0695</td>\n",
       "      <td>2377.2111</td>\n",
       "      <td>48.7825</td>\n",
       "    </tr>\n",
       "    <tr>\n",
       "      <th>2</th>\n",
       "      <td>2</td>\n",
       "      <td>0.0970</td>\n",
       "      <td>1884.9580</td>\n",
       "      <td>32.0584</td>\n",
       "    </tr>\n",
       "    <tr>\n",
       "      <th>3</th>\n",
       "      <td>3</td>\n",
       "      <td>0.1353</td>\n",
       "      <td>1502.2740</td>\n",
       "      <td>3.4252</td>\n",
       "    </tr>\n",
       "    <tr>\n",
       "      <th>4</th>\n",
       "      <td>4</td>\n",
       "      <td>0.1889</td>\n",
       "      <td>1131.2861</td>\n",
       "      <td>60.8621</td>\n",
       "    </tr>\n",
       "    <tr>\n",
       "      <th>5</th>\n",
       "      <td>5</td>\n",
       "      <td>0.2636</td>\n",
       "      <td>973.9710</td>\n",
       "      <td>1.8319</td>\n",
       "    </tr>\n",
       "    <tr>\n",
       "      <th>6</th>\n",
       "      <td>6</td>\n",
       "      <td>0.3679</td>\n",
       "      <td>652.7160</td>\n",
       "      <td>40.8658</td>\n",
       "    </tr>\n",
       "    <tr>\n",
       "      <th>7</th>\n",
       "      <td>7</td>\n",
       "      <td>0.5134</td>\n",
       "      <td>268.6288</td>\n",
       "      <td>1.7304</td>\n",
       "    </tr>\n",
       "    <tr>\n",
       "      <th>8</th>\n",
       "      <td>8</td>\n",
       "      <td>0.7165</td>\n",
       "      <td>376.3815</td>\n",
       "      <td>3.9352</td>\n",
       "    </tr>\n",
       "    <tr>\n",
       "      <th>9</th>\n",
       "      <td>9</td>\n",
       "      <td>1.0000</td>\n",
       "      <td>255.0997</td>\n",
       "      <td>60.4152</td>\n",
       "    </tr>\n",
       "  </tbody>\n",
       "</table>\n",
       "</div>"
      ],
      "text/plain": [
       "   Unnamed: 0       r          I    error\n",
       "0           0  0.0498  2945.6142  12.1356\n",
       "1           1  0.0695  2377.2111  48.7825\n",
       "2           2  0.0970  1884.9580  32.0584\n",
       "3           3  0.1353  1502.2740   3.4252\n",
       "4           4  0.1889  1131.2861  60.8621\n",
       "5           5  0.2636   973.9710   1.8319\n",
       "6           6  0.3679   652.7160  40.8658\n",
       "7           7  0.5134   268.6288   1.7304\n",
       "8           8  0.7165   376.3815   3.9352\n",
       "9           9  1.0000   255.0997  60.4152"
      ]
     },
     "execution_count": 38,
     "metadata": {},
     "output_type": "execute_result"
    }
   ],
   "source": [
    "data3"
   ]
  },
  {
   "cell_type": "markdown",
   "metadata": {},
   "source": [
    "## $I(r)=244\\ e^{\\frac{\\ln(r)}{R}}$"
   ]
  },
  {
   "cell_type": "markdown",
   "metadata": {},
   "source": [
    "## $\\ln(I(r))=\\ln(244)+\\frac{\\ln(r)}{R}$"
   ]
  },
  {
   "cell_type": "markdown",
   "metadata": {},
   "source": [
    "### $x=\\ln(r)$\n",
    "\n",
    "### $y=\\ln(I(r))$\n",
    "\n",
    "### $a=\\frac{1}{R}$\n",
    "\n",
    "### $b=\\ln{244}$"
   ]
  },
  {
   "cell_type": "markdown",
   "metadata": {},
   "source": [
    "## $y=ax+b$"
   ]
  },
  {
   "cell_type": "code",
   "execution_count": 39,
   "metadata": {},
   "outputs": [],
   "source": [
    "r = data1['r'].values\n",
    "I = data1['I'].values\n",
    "x = np.log(r)\n",
    "y = np.log(I)"
   ]
  },
  {
   "cell_type": "code",
   "execution_count": 42,
   "metadata": {},
   "outputs": [
    {
     "data": {
      "text/plain": [
       "array([-2.99974029, -2.66642853, -2.3330443 , -2.00026074, -1.6665375 ,\n",
       "       -1.33332248, -0.99994412, -0.66670001, -0.33337703,  0.        ])"
      ]
     },
     "execution_count": 42,
     "metadata": {},
     "output_type": "execute_result"
    }
   ],
   "source": [
    "x"
   ]
  },
  {
   "cell_type": "markdown",
   "metadata": {},
   "source": [
    "# (الف"
   ]
  },
  {
   "cell_type": "code",
   "execution_count": 43,
   "metadata": {},
   "outputs": [
    {
     "name": "stdout",
     "output_type": "stream",
     "text": [
      "a is -0.8355\n",
      "R is -1.1969\n"
     ]
    }
   ],
   "source": [
    "a = np.sum(y*(x-x.mean()))/np.sum((x-x.mean())**2)\n",
    "R = 1/a\n",
    "print('a is {:2.4f}'.format(a))\n",
    "print('R is {:2.4f}'.format(R))"
   ]
  },
  {
   "cell_type": "code",
   "execution_count": 8,
   "metadata": {},
   "outputs": [],
   "source": [
    "# np.polyfit(x,y,1)"
   ]
  },
  {
   "cell_type": "markdown",
   "metadata": {},
   "source": [
    "# (ب"
   ]
  },
  {
   "cell_type": "markdown",
   "metadata": {},
   "source": [
    "## linear plot"
   ]
  },
  {
   "cell_type": "code",
   "execution_count": 9,
   "metadata": {},
   "outputs": [
    {
     "data": {
      "image/png": "[encoded data removed]",
      "text/plain": [
       "<Figure size 432x288 with 1 Axes>"
      ]
     },
     "metadata": {
      "needs_background": "light"
     },
     "output_type": "display_data"
    }
   ],
   "source": [
    "plt.plot(r,I,'ro')\n",
    "plt.plot(r,244*np.exp(np.log(r)/R))\n",
    "# plt.plot(r,I_0*np.exp(np.log(r)/R))\n",
    "plt.xlabel('r',fontsize=25)\n",
    "plt.ylabel('I',fontsize=25)\n",
    "plt.subplots_adjust(left=0.2,bottom=0.2)\n",
    "plt.savefig('linear.jpg')"
   ]
  },
  {
   "cell_type": "markdown",
   "metadata": {},
   "source": [
    "## log plot"
   ]
  },
  {
   "cell_type": "code",
   "execution_count": 10,
   "metadata": {},
   "outputs": [
    {
     "data": {
      "image/png": "[encoded data removed]",
      "text/plain": [
       "<Figure size 432x288 with 1 Axes>"
      ]
     },
     "metadata": {
      "needs_background": "light"
     },
     "output_type": "display_data"
    }
   ],
   "source": [
    "# plt.plot(r,I,'ro')\n",
    "# plt.plot(r,244*np.exp(np.log(r)/R))\n",
    "# # plt.plot(r,I_0*np.exp(np.log(r)/R))\n",
    "# plt.xscale('log')\n",
    "# plt.yscale('log')\n",
    "\n",
    "plt.plot(x,y,'ro')\n",
    "plt.plot(x,a*x+np.log(244))\n",
    "# plt.plot(r,I_0*np.exp(np.log(r)/R))\n",
    "plt.xlabel('ln(r)',fontsize=25)\n",
    "plt.ylabel('ln(I)',fontsize=25)\n",
    "plt.subplots_adjust(left=0.2,bottom=0.2)\n",
    "plt.savefig('log.jpg')"
   ]
  },
  {
   "cell_type": "markdown",
   "metadata": {},
   "source": [
    "# (ج"
   ]
  },
  {
   "cell_type": "markdown",
   "metadata": {},
   "source": [
    "### $b=\\ln(I_0)$"
   ]
  },
  {
   "cell_type": "code",
   "execution_count": 44,
   "metadata": {},
   "outputs": [
    {
     "name": "stdout",
     "output_type": "stream",
     "text": [
      "b is 5.6441\n",
      "R is -1.1969\n",
      "I_0 is 282.6332\n"
     ]
    }
   ],
   "source": [
    "b = y.mean()-a*x.mean()\n",
    "I_0 = np.exp(b)\n",
    "print('b is {:2.4f}'.format(b))\n",
    "print('R is {:2.4f}'.format(R))\n",
    "print('I_0 is {:2.4f}'.format(I_0))"
   ]
  },
  {
   "cell_type": "markdown",
   "metadata": {},
   "source": [
    "# (د"
   ]
  },
  {
   "cell_type": "code",
   "execution_count": 1,
   "metadata": {},
   "outputs": [],
   "source": [
    "# np.sum((a*x+np.log(244)-y)**2)/9,np.sum((a*x+b-y)**2)/8"
   ]
  },
  {
   "cell_type": "code",
   "execution_count": 2,
   "metadata": {},
   "outputs": [],
   "source": [
    "# 1/0.8576"
   ]
  },
  {
   "cell_type": "code",
   "execution_count": 3,
   "metadata": {},
   "outputs": [],
   "source": [
    "# print(np.sum((248*np.exp(np.log(r)/(-1.166))-I)**2))"
   ]
  },
  {
   "cell_type": "code",
   "execution_count": 47,
   "metadata": {},
   "outputs": [
    {
     "name": "stdout",
     "output_type": "stream",
     "text": [
      "65708.32640732556\n",
      "81687.43307378508\n"
     ]
    }
   ],
   "source": [
    "print(np.sum((244*np.exp(np.log(r)/R)-I)**2)/9)\n",
    "print(np.sum((I_0*np.exp(np.log(r)/R)-I)**2)/8)"
   ]
  },
  {
   "cell_type": "markdown",
   "metadata": {},
   "source": [
    "the first model is better."
   ]
  },
  {
   "cell_type": "markdown",
   "metadata": {},
   "source": [
    "# (ه"
   ]
  },
  {
   "cell_type": "markdown",
   "metadata": {},
   "source": [
    "## $\\chi^2=\\Sigma{\\frac{(y_{model}(x_i)-y_{obs}(x_i))^2}{\\sigma_i^2}}$"
   ]
  },
  {
   "cell_type": "markdown",
   "metadata": {},
   "source": [
    "# (و"
   ]
  },
  {
   "cell_type": "code",
   "execution_count": null,
   "metadata": {},
   "outputs": [],
   "source": []
  },
  {
   "cell_type": "markdown",
   "metadata": {},
   "source": [
    "# (ز"
   ]
  },
  {
   "cell_type": "code",
   "execution_count": 56,
   "metadata": {},
   "outputs": [],
   "source": [
    "R1 = R\n",
    "R2 = 1/(-0.6851)\n",
    "R3 = 1/(-0.8602)"
   ]
  },
  {
   "cell_type": "code",
   "execution_count": 57,
   "metadata": {},
   "outputs": [],
   "source": [
    "I_01 = I_0\n",
    "I_02 = np.exp(5.9486)\n",
    "I_03 = np.exp(5.5174)\n",
    "# I_02 = 5.9486\n",
    "# I_03 = 5.5174"
   ]
  },
  {
   "cell_type": "code",
   "execution_count": 58,
   "metadata": {},
   "outputs": [
    {
     "name": "stdout",
     "output_type": "stream",
     "text": [
      "The best R is -1.2730, error 0.1327\n",
      "The best I0 is 304.9455, error 57.0250\n"
     ]
    }
   ],
   "source": [
    "print('The best R is {:2.4f}, error {:2.4f}'.format(np.mean([R1,R2,R3]),np.std([R1,R2,R3])))\n",
    "print('The best I0 is {:2.4f}, error {:2.4f}'.format(np.mean([I_01,I_02,I_03]),np.std([I_01,I_02,I_03])))"
   ]
  },
  {
   "cell_type": "code",
   "execution_count": 55,
   "metadata": {},
   "outputs": [
    {
     "data": {
      "text/plain": [
       "379.93492953814206"
      ]
     },
     "execution_count": 55,
     "metadata": {},
     "output_type": "execute_result"
    }
   ],
   "source": [
    "np.exp(5.94)"
   ]
  },
  {
   "cell_type": "code",
   "execution_count": null,
   "metadata": {},
   "outputs": [],
   "source": []
  }
 ],
 "metadata": {
  "kernelspec": {
   "display_name": "Python 3",
   "language": "python",
   "name": "python3"
  },
  "language_info": {
   "codemirror_mode": {
    "name": "ipython",
    "version": 3
   },
   "file_extension": ".py",
   "mimetype": "text/x-python",
   "name": "python",
   "nbconvert_exporter": "python",
   "pygments_lexer": "ipython3",
   "version": "3.6.6"
  }
 },
 "nbformat": 4,
 "nbformat_minor": 2
}
